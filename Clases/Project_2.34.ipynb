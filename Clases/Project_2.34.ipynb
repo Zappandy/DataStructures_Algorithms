{
 "cells": [
  {
   "cell_type": "markdown",
   "metadata": {},
   "source": [
    "### Write a Python program that inputs a document and then outputs a bar-chart plot of the frequencies of each alphabet  character that appears in that document."
   ]
  },
  {
   "cell_type": "code",
   "execution_count": 17,
   "metadata": {},
   "outputs": [],
   "source": [
    "import matplotlib.pyplot as plt\n",
    "import pandas as pd\n",
    "import re"
   ]
  },
  {
   "cell_type": "code",
   "execution_count": 199,
   "metadata": {},
   "outputs": [],
   "source": [
    "class Count_alpha:\n",
    "    \n",
    "    '''This take as a patameter a txt file and return a graphic which contains a plot with the frequency \n",
    "    of each alphabetic character.\n",
    "    \n",
    "    With the porpuse of making a class that can be initialized as funtion, it's mean without need of makin a\n",
    "    instance of the class, a class method was implemented\n",
    "    \n",
    "    '''\n",
    "    \n",
    "    @classmethod\n",
    "    def generate_graph(cls,path): \n",
    "        with open(path, 'r') as text:\n",
    "            counter_words = {}\n",
    "            for word in text:\n",
    "                for letter in word:\n",
    "                    if (re.match(\"\\w\",letter) is not None):\n",
    "                        letter = letter.lower()\n",
    "                        if letter in counter_words:\n",
    "                            counter_words[letter] +=1\n",
    "                        else:\n",
    "                            counter_words[letter] =1\n",
    "\n",
    "            x = list(counter_words.keys())\n",
    "            cls.x = x\n",
    "            cls.y = counter_words.values()\n",
    "            \n",
    "            plt.title('Frecuency Vs Aphabetic character')\n",
    "            plt.style.use('ggplot')\n",
    "            plt.xlabel('Characters')\n",
    "            plt.ylabel('Frecuency')\n",
    "            return plt.bar(cls.x,cls.y)"
   ]
  },
  {
   "cell_type": "code",
   "execution_count": 200,
   "metadata": {},
   "outputs": [
    {
     "data": {
      "image/png": "[encoded data removed]",
      "text/plain": [
       "<Figure size 432x288 with 1 Axes>"
      ]
     },
     "metadata": {},
     "output_type": "display_data"
    }
   ],
   "source": [
    "a = Count_alpha.generate_graph('Lorem ipsum.txt')"
   ]
  },
  {
   "cell_type": "code",
   "execution_count": null,
   "metadata": {},
   "outputs": [],
   "source": []
  }
 ],
 "metadata": {
  "kernelspec": {
   "display_name": "Python 3",
   "language": "python",
   "name": "python3"
  },
  "language_info": {
   "codemirror_mode": {
    "name": "ipython",
    "version": 3
   },
   "file_extension": ".py",
   "mimetype": "text/x-python",
   "name": "python",
   "nbconvert_exporter": "python",
   "pygments_lexer": "ipython3",
   "version": "3.8.5"
  }
 },
 "nbformat": 4,
 "nbformat_minor": 4
}
